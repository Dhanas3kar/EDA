{
 "cells": [
  {
   "cell_type": "markdown",
   "id": "d6003937",
   "metadata": {},
   "source": [
    "AIRLINES FLIGHT DELAY ANALYSIS"
   ]
  },
  {
   "cell_type": "code",
   "execution_count": null,
   "id": "23fe6c00",
   "metadata": {},
   "outputs": [],
   "source": [
    "import pandas as pd\n",
    "import matplotlib.pyplot as plt\n",
    "import seaborn as sns\n",
    "\n",
    "# 1. Load dataset\n",
    "df = pd.read_csv(\"DelayedFlights.csv\")\n",
    "\n",
    "# 2. Basic info\n",
    "print(\"Total records:\", len(df))\n",
    "print(\"\\nMissing values per column:\\n\", df.isnull().sum())\n"
   ]
  },
  {
   "cell_type": "code",
   "execution_count": null,
   "id": "4974a22f",
   "metadata": {},
   "outputs": [],
   "source": [
    "# 3. Fill missing delay reason counts with zero (safe fallback)\n",
    "delay_cols = ['CarrierDelay', 'WeatherDelay', 'NASDelay',\n",
    "              'SecurityDelay', 'LateAircraftDelay']\n",
    "for col in delay_cols:\n",
    "    df[col] = df[col].fillna(0)\n",
    "\n",
    "# 4. Percentage of each delay cause per record\n",
    "df['total_delay'] = df[delay_cols].sum(axis=1)\n",
    "for col in delay_cols:\n",
    "    df[f'{col}_pct'] = df[col] / df['total_delay'] * 100\n",
    "    df[f'{col}_pct'] = df[f'{col}_pct'].fillna(0)"
   ]
  },
  {
   "cell_type": "code",
   "execution_count": null,
   "id": "b9819d4c",
   "metadata": {},
   "outputs": [],
   "source": [
    "# 5. Average delay percentages by month\n",
    "avg_pct_by_month = df.groupby('Month')[[f'{col}_pct' for col in delay_cols]].mean()\n",
    "print(\"\\nAverage Delay % by Month:\\n\", avg_pct_by_month)"
   ]
  },
  {
   "cell_type": "code",
   "execution_count": null,
   "id": "ecd1a3c9",
   "metadata": {},
   "outputs": [],
   "source": [
    "# 6. Bar chart — average delay percentage by month\n",
    "avg_pct_by_month.plot(kind='bar', figsize=(10,5), stacked=True, colormap='tab20')\n",
    "plt.title(\"Average Delay Percentage by Cause per Month\")\n",
    "plt.xlabel(\"Month\")\n",
    "plt.ylabel(\"Average Delay Percentage (%)\")\n",
    "plt.legend(title=\"Delay Cause\", bbox_to_anchor=(1.05, 1), loc='upper left')\n",
    "plt.tight_layout()\n",
    "plt.show()\n",
    "\n"
   ]
  },
  {
   "cell_type": "code",
   "execution_count": null,
   "id": "83d27cc0",
   "metadata": {},
   "outputs": [],
   "source": [
    "# 7. Correlation heatmap — delay causes relationship\n",
    "plt.figure(figsize=(6,5))\n",
    "sns.heatmap(df[delay_cols].corr(), annot=True, cmap=\"coolwarm\", fmt=\".2f\")\n",
    "plt.title(\"Correlation: Delay Causes\")\n",
    "plt.show()"
   ]
  }
 ],
 "metadata": {
  "kernelspec": {
   "display_name": "venv",
   "language": "python",
   "name": "python3"
  },
  "language_info": {
   "codemirror_mode": {
    "name": "ipython",
    "version": 3
   },
   "file_extension": ".py",
   "mimetype": "text/x-python",
   "name": "python",
   "nbconvert_exporter": "python",
   "pygments_lexer": "ipython3",
   "version": "3.11.8"
  }
 },
 "nbformat": 4,
 "nbformat_minor": 5
}
