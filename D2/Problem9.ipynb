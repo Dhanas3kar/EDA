{
 "cells": [
  {
   "cell_type": "markdown",
   "id": "a5b1fd05",
   "metadata": {},
   "source": [
    "STOCK ANALYSIS"
   ]
  },
  {
   "cell_type": "code",
   "execution_count": null,
   "id": "df8f3e2d",
   "metadata": {},
   "outputs": [],
   "source": [
    "import pandas as pd\n",
    "import matplotlib.pyplot as plt\n",
    "\n",
    "# Load dataset\n",
    "df = pd.read_csv(\"all_stocks_5yr.csv\", parse_dates=[\"date\"])\n",
    "df.set_index(\"date\", inplace=True)\n",
    "\n",
    "# Quick look\n",
    "print(df.info())\n",
    "print(df.describe())\n"
   ]
  },
  {
   "cell_type": "code",
   "execution_count": null,
   "id": "19c2bad3",
   "metadata": {},
   "outputs": [],
   "source": [
    "# Closing price trend\n",
    "plt.figure(figsize=(10,6))\n",
    "plt.plot(df[\"close\"], label=\"Close Price\")\n",
    "plt.title(\"Stock Closing Price Over Time\")\n",
    "plt.xlabel(\"Date\")\n",
    "plt.ylabel(\"Price\")\n",
    "plt.legend()\n",
    "plt.show()"
   ]
  },
  {
   "cell_type": "code",
   "execution_count": null,
   "id": "42a75b89",
   "metadata": {},
   "outputs": [],
   "source": [
    "# Volume trend\n",
    "plt.figure(figsize=(10,6))\n",
    "plt.plot(df[\"volume\"], color=\"orange\", label=\"Volume\")\n",
    "plt.title(\"Stock Trading Volume Over Time\")\n",
    "plt.xlabel(\"Date\")\n",
    "plt.ylabel(\"Volume\")\n",
    "plt.legend()\n",
    "plt.show()"
   ]
  },
  {
   "cell_type": "code",
   "execution_count": null,
   "id": "5bb4b143",
   "metadata": {},
   "outputs": [],
   "source": [
    "# Moving Average (30-day)\n",
    "df[\"MA30\"] = df[\"close\"].rolling(30).mean()\n",
    "plt.figure(figsize=(10,5))\n",
    "plt.plot(df[\"close\"], label=\"Close Price\")\n",
    "plt.plot(df[\"MA30\"], label=\"30-Day MA\", color=\"red\")\n",
    "plt.title(\"Stock Price with 30-Day Moving Average\")\n",
    "plt.xlabel(\"Date\")\n",
    "plt.ylabel(\"Price\")\n",
    "plt.legend()\n",
    "plt.show()\n"
   ]
  },
  {
   "cell_type": "code",
   "execution_count": null,
   "id": "4924ede2",
   "metadata": {},
   "outputs": [],
   "source": [
    "# Correlation Heatmap (Price & Volume related)\n",
    "plt.figure(figsize=(8,6))\n",
    "plt.imshow(df[[\"open\",\"high\",\"low\",\"close\",\"volume\"]].corr(), cmap=\"coolwarm\", interpolation=\"none\")\n",
    "plt.colorbar(label=\"Correlation\")\n",
    "plt.xticks(range(5), [\"open\",\"high\",\"low\",\"close\",\"volume\"], rotation=45)\n",
    "plt.yticks(range(5), [\"open\",\"high\",\"low\",\"close\",\"volume\"])\n",
    "plt.title(\"Correlation Heatmap\")\n",
    "plt.show()\n"
   ]
  }
 ],
 "metadata": {
  "kernelspec": {
   "display_name": "venv",
   "language": "python",
   "name": "python3"
  },
  "language_info": {
   "codemirror_mode": {
    "name": "ipython",
    "version": 3
   },
   "file_extension": ".py",
   "mimetype": "text/x-python",
   "name": "python",
   "nbconvert_exporter": "python",
   "pygments_lexer": "ipython3",
   "version": "3.11.8"
  }
 },
 "nbformat": 4,
 "nbformat_minor": 5
}
