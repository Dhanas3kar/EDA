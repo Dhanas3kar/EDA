{
 "cells": [
  {
   "cell_type": "markdown",
   "id": "b1f990d3",
   "metadata": {},
   "source": [
    "LINKEDIN DATA ANALYSIS"
   ]
  },
  {
   "cell_type": "code",
   "execution_count": null,
   "id": "54f9d67f",
   "metadata": {},
   "outputs": [],
   "source": [
    "import pandas as pd\n",
    "import matplotlib.pyplot as plt\n",
    "from pathlib import Path\n",
    "\n",
    "# Load Connections data\n",
    "connections_path = Path(\"Connections.csv\")\n",
    "if not connections_path.exists():\n",
    "    raise FileNotFoundError(\"'Connections.csv' is required for this analysis.\")\n",
    "connections = pd.read_csv(connections_path)\n",
    "\n",
    "# Load Posts data (optional)\n",
    "posts_path = Path(\"Rich_Media.csv\")\n",
    "if posts_path.exists():\n",
    "    posts = pd.read_csv(posts_path)\n",
    "else:\n",
    "    print(\"Warning: 'Rich_Media.csv' not found. Proceeding with only connections data.\")\n",
    "    posts = pd.DataFrame(columns=[\"Date/Time\"])\n",
    "\n",
    "# Convert date columns to datetime\n",
    "connections[\"Connected On\"] = pd.to_datetime(connections[\"Connected On\"], errors=\"coerce\")\n",
    "if not posts.empty and \"Date/Time\" in posts.columns:\n",
    "    posts[\"Date/Time\"] = pd.to_datetime(posts[\"Date/Time\"], errors=\"coerce\")\n",
    "\n",
    "# Group by month\n",
    "connections_per_month = connections.groupby(connections[\"Connected On\"].dt.to_period(\"M\")).size()\n",
    "if not posts.empty and \"Date/Time\" in posts.columns:\n",
    "    posts_per_month = posts.groupby(posts[\"Date/Time\"].dt.to_period(\"M\")).size()\n",
    "else:\n",
    "    posts_per_month = pd.Series(dtype=int)\n",
    "\n",
    "# Combine into one DataFrame and sort by month\n",
    "df = pd.DataFrame({\n",
    "    \"Connections\": connections_per_month,\n",
    "    \"Posts\": posts_per_month\n",
    "}).fillna(0)\n",
    "df.index = df.index.astype(str)  # Convert PeriodIndex to string for better plotting\n",
    "df = df.sort_index()\n",
    "\n",
    "# Plot: Connections and Posts as separate subplots (line plots for clarity)\n",
    "fig, axes = plt.subplots(2, 1, figsize=(12, 8), sharex=True)\n",
    "df[\"Connections\"].plot(ax=axes[0], marker='o', color='tab:blue', legend=True)\n",
    "axes[0].set_title(\"Monthly Connections Growth\")\n",
    "axes[0].set_ylabel(\"Connections\")\n",
    "\n",
    "df[\"Posts\"].plot(ax=axes[1], marker='o', color='tab:orange', legend=True)\n",
    "axes[1].set_title(\"Monthly Post Activity\")\n",
    "axes[1].set_ylabel(\"Posts\")\n",
    "\n",
    "plt.xlabel(\"Month\")\n",
    "plt.suptitle(\"Connections Growth vs Post Activity (Monthly)\", fontsize=16)\n",
    "plt.xticks(rotation=45, ha='right')\n",
    "plt.tight_layout(rect=[0, 0, 1, 0.96])\n",
    "plt.show()"
   ]
  }
 ],
 "metadata": {
  "kernelspec": {
   "display_name": "venv",
   "language": "python",
   "name": "python3"
  },
  "language_info": {
   "codemirror_mode": {
    "name": "ipython",
    "version": 3
   },
   "file_extension": ".py",
   "mimetype": "text/x-python",
   "name": "python",
   "nbconvert_exporter": "python",
   "pygments_lexer": "ipython3",
   "version": "3.11.8"
  }
 },
 "nbformat": 4,
 "nbformat_minor": 5
}
