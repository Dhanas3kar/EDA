{
 "cells": [
  {
   "cell_type": "code",
   "execution_count": null,
   "id": "983f1f31",
   "metadata": {},
   "outputs": [],
   "source": [
    "%pip install matplotlib numpy seaborn"
   ]
  },
  {
   "cell_type": "code",
   "execution_count": null,
   "id": "1c2ba7a7",
   "metadata": {},
   "outputs": [],
   "source": [
    "import pandas as pd\n",
    "import numpy as np\n",
    "import seaborn as sns\n",
    "import matplotlib.pyplot as plt\n",
    "\n",
    "df=pd.read_csv('IRIS.csv')"
   ]
  },
  {
   "cell_type": "code",
   "execution_count": null,
   "id": "9dc68fb1",
   "metadata": {},
   "outputs": [],
   "source": [
    "print(\"Total values:\", len(df))\n",
    "print(\"Total missing values:\", df.isnull().sum().sum())\n",
    "df.head()"
   ]
  },
  {
   "cell_type": "code",
   "execution_count": null,
   "id": "2ee001d8",
   "metadata": {},
   "outputs": [],
   "source": [
    "#pair plot\n",
    "sns.pairplot(df, hue='species')\n",
    "plt.show()"
   ]
  },
  {
   "cell_type": "code",
   "execution_count": null,
   "id": "83514421",
   "metadata": {},
   "outputs": [],
   "source": [
    "#box plot\n",
    "plt.figure(figsize=(10, 6))\n",
    "sns.boxplot(x='species', y='sepal_length', data=df)\n",
    "plt.title('Sepal Length Distribution by Species')\n",
    "plt.show()"
   ]
  },
  {
   "cell_type": "code",
   "execution_count": null,
   "id": "ee28d6f7",
   "metadata": {},
   "outputs": [],
   "source": [
    "#histogram\n",
    "plt.figure(figsize=(10, 6))\n",
    "sns.histplot(data=df, x='sepal_length', hue='species', multiple='stack', bins=35)\n",
    "plt.title('Stacked Distribution of Sepal Length by Species')\n",
    "plt.show()"
   ]
  },
  {
   "cell_type": "code",
   "execution_count": null,
   "id": "dd01d6c9",
   "metadata": {},
   "outputs": [],
   "source": [
    "#heatmap\n",
    "plt.figure(figsize=(10, 6))\n",
    "numeric_df = df.select_dtypes(include=[np.number])\n",
    "sns.heatmap(numeric_df.corr(), annot=True, cmap='coolwarm', fmt='.2f')\n",
    "plt.title('Heatmap of Correlations')\n",
    "plt.show()"
   ]
  }
 ],
 "metadata": {
  "kernelspec": {
   "display_name": "venv",
   "language": "python",
   "name": "python3"
  },
  "language_info": {
   "codemirror_mode": {
    "name": "ipython",
    "version": 3
   },
   "file_extension": ".py",
   "mimetype": "text/x-python",
   "name": "python",
   "nbconvert_exporter": "python",
   "pygments_lexer": "ipython3",
   "version": "3.11.8"
  }
 },
 "nbformat": 4,
 "nbformat_minor": 5
}
