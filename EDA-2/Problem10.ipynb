{
 "cells": [
  {
   "cell_type": "markdown",
   "id": "b3c95ed1",
   "metadata": {},
   "source": [
    "MEDICAL INSURANCE ANALYSIS"
   ]
  },
  {
   "cell_type": "code",
   "execution_count": null,
   "id": "a707ede1",
   "metadata": {},
   "outputs": [],
   "source": [
    "import pandas as pd\n",
    "import matplotlib.pyplot as plt\n",
    "import seaborn as sns\n",
    "\n",
    "\n",
    "df=pd.read_csv(\"insurance.csv\")\n",
    "\n",
    "print(\"Patient Data Overview:\", len(df))\n",
    "print(df.head())\n",
    "print(\"\\nMissing data:\", df.isnull().sum())"
   ]
  },
  {
   "cell_type": "code",
   "execution_count": null,
   "id": "c7e3cd3a",
   "metadata": {},
   "outputs": [],
   "source": [
    "plt.figure(figsize=(8,6))\n",
    "sns.histplot(df['charges'], bins=30, kde=True)\n",
    "plt.title(\"Distribution of Charges over the insurance period\")\n",
    "plt.xlabel(\"Charges\")\n",
    "plt.ylabel(\"Frequency\")\n",
    "plt.show()"
   ]
  },
  {
   "cell_type": "code",
   "execution_count": null,
   "id": "4765bb58",
   "metadata": {},
   "outputs": [],
   "source": [
    "plt.figure(figsize=(8,6))\n",
    "sns.boxplot(x='smoker', y='charges', data=df)\n",
    "plt.title(\"Charges by Smoking Status\")\n",
    "plt.xlabel(\"Smoker\")\n",
    "plt.ylabel(\"Charges\")\n",
    "plt.show()"
   ]
  },
  {
   "cell_type": "code",
   "execution_count": null,
   "id": "3a9ff186",
   "metadata": {},
   "outputs": [],
   "source": [
    "plt.figure(figsize=(8,6))\n",
    "sns.scatterplot(x='bmi', y='charges', hue='smoker', data=df)\n",
    "plt.title(\"Charges vs BMI by Smoking Status\")\n",
    "plt.xlabel(\"BMI\")\n",
    "plt.ylabel(\"Charges\")\n",
    "plt.show()"
   ]
  },
  {
   "cell_type": "code",
   "execution_count": null,
   "id": "c6d297b0",
   "metadata": {},
   "outputs": [],
   "source": [
    "plt.figure(figsize=(8,6))\n",
    "sns.boxplot(x='region', y='charges', data=df)\n",
    "plt.title(\"Charges by Region\")\n",
    "plt.show()"
   ]
  },
  {
   "cell_type": "code",
   "execution_count": null,
   "id": "9f237307",
   "metadata": {},
   "outputs": [],
   "source": [
    "plt.figure(figsize=(8,6))\n",
    "sns.scatterplot(x='age', y='charges', hue='smoker', data=df)\n",
    "plt.title(\"Charges vs Age by Smoking Status\")\n",
    "plt.show()"
   ]
  }
 ],
 "metadata": {
  "kernelspec": {
   "display_name": "venv",
   "language": "python",
   "name": "python3"
  },
  "language_info": {
   "codemirror_mode": {
    "name": "ipython",
    "version": 3
   },
   "file_extension": ".py",
   "mimetype": "text/x-python",
   "name": "python",
   "nbconvert_exporter": "python",
   "pygments_lexer": "ipython3",
   "version": "3.11.8"
  }
 },
 "nbformat": 4,
 "nbformat_minor": 5
}
