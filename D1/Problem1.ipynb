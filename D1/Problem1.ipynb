{
 "cells": [
  {
   "cell_type": "markdown",
   "id": "4c6bfa67",
   "metadata": {},
   "source": [
    "### EDA Practice Problem 1"
   ]
  },
  {
   "cell_type": "code",
   "execution_count": null,
   "id": "58d21fe5",
   "metadata": {},
   "outputs": [],
   "source": [
    "# Day 1 – Titanic Survival Analysis 🚢\n",
    "\n",
    "import pandas as pd \n",
    "import matplotlib.pyplot as plt \n",
    "import seaborn as sns \n",
    "\n",
    "# Load dataset\n",
    "df = pd.read_csv(\"train.csv\")\n",
    "\n",
    "# 1. Total passengers and missing values\n",
    "print(\"Total passengers:\", len(df))\n",
    "print(\"\\nMissing values:\\n\", df.isnull().sum())\n",
    "\n",
    "# 2. Clean missing Age with median (safe assignment)\n",
    "df['Age'] = df['Age'].fillna(df['Age'].median())\n",
    "\n",
    "# 3. Survival rate by gender\n",
    "survival_by_gender = df.groupby('Sex')['Survived'].mean() * 100\n",
    "print(\"\\nSurvival Rate by Gender (%):\\n\", survival_by_gender)\n",
    "\n",
    "# 4. Survival rate by passenger class\n",
    "survival_by_class = df.groupby('Pclass')['Survived'].mean() * 100\n",
    "print(\"\\nSurvival Rate by Class (%):\\n\", survival_by_class)\n",
    "\n",
    "# 5. Bar chart – Survival % by Class (fixed Seaborn warning)\n",
    "plt.figure(figsize=(6,4))\n",
    "sns.barplot(x=survival_by_class.index, y=survival_by_class.values, hue=survival_by_class.index, palette=\"Set2\", legend=False)\n",
    "plt.title(\"Survival Percentage by Passenger Class\")\n",
    "plt.xlabel(\"Passenger Class\")\n",
    "plt.ylabel(\"Survival Rate (%)\")\n",
    "plt.show()\n",
    "\n",
    "# 6. Correlation heatmap\n",
    "plt.figure(figsize=(10,6))\n",
    "sns.heatmap(df.corr(numeric_only=True), annot=True, cmap=\"coolwarm\", fmt=\".2f\")\n",
    "plt.title(\"Correlation Heatmap\")\n",
    "plt.show()\n"
   ]
  }
 ],
 "metadata": {
  "kernelspec": {
   "display_name": "venv (3.12.9)",
   "language": "python",
   "name": "python3"
  },
  "language_info": {
   "codemirror_mode": {
    "name": "ipython",
    "version": 3
   },
   "file_extension": ".py",
   "mimetype": "text/x-python",
   "name": "python",
   "nbconvert_exporter": "python",
   "pygments_lexer": "ipython3",
   "version": "3.12.9"
  }
 },
 "nbformat": 4,
 "nbformat_minor": 5
}
