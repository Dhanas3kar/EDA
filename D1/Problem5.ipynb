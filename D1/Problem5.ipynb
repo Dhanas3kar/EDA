{
 "cells": [
  {
   "cell_type": "markdown",
   "id": "79e0a295",
   "metadata": {},
   "source": [
    "### EDA Practice Problem 5"
   ]
  },
  {
   "cell_type": "code",
   "execution_count": null,
   "id": "ae0e36ae",
   "metadata": {},
   "outputs": [],
   "source": [
    "# Day 5 – Stock Market 📈\n",
    "\n",
    "import pandas as pd\n",
    "import matplotlib.pyplot as plt\n",
    "\n",
    "# Load dataset\n",
    "df = pd.read_csv(\"tesla.csv\", parse_dates=[\"Date\"])\n",
    "df.set_index(\"Date\", inplace=True)\n",
    "\n",
    "# 🔹 Plot Closing Price Trend\n",
    "plt.figure(figsize=(12,5))\n",
    "plt.plot(df[\"Close\"], label=\"Closing Price\")\n",
    "plt.title(\"Tesla Stock Closing Price Trend\")\n",
    "plt.xlabel(\"Date\")\n",
    "plt.ylabel(\"Price ($)\")\n",
    "plt.legend()\n",
    "plt.show()\n",
    "\n",
    "# 🔹 Calculate Moving Averages (7 & 30 days)\n",
    "df[\"MA7\"] = df[\"Close\"].rolling(window=7).mean()\n",
    "df[\"MA30\"] = df[\"Close\"].rolling(window=30).mean()\n",
    "\n",
    "plt.figure(figsize=(12,5))\n",
    "plt.plot(df[\"Close\"], label=\"Closing Price\", alpha=0.6)\n",
    "plt.plot(df[\"MA7\"], label=\"7-Day MA\", linewidth=2)\n",
    "plt.plot(df[\"MA30\"], label=\"30-Day MA\", linewidth=2)\n",
    "plt.title(\"Tesla Stock Moving Averages\")\n",
    "plt.xlabel(\"Date\")\n",
    "plt.ylabel(\"Price ($)\")\n",
    "plt.legend()\n",
    "plt.show()\n",
    "\n"
   ]
  },
  {
   "cell_type": "code",
   "execution_count": null,
   "id": "beeaec47",
   "metadata": {},
   "outputs": [],
   "source": [
    "# 🔹 Find Max Closing Price & Date\n",
    "max_close = df[\"Close\"].max()\n",
    "max_date = df[\"Close\"].idxmax()\n",
    "print(f\"📌 Highest Closing Price: ${max_close:.2f} on {max_date.date()}\")\n",
    "\n",
    "# 🔹 Correlation between Open, High, Low, Close\n",
    "corr = df[[\"Open\", \"High\", \"Low\", \"Close\"]].corr()\n",
    "print(\"\\nCorrelation Matrix:\\n\", corr)\n",
    "\n",
    "plt.figure(figsize=(6,4))\n",
    "plt.imshow(corr, cmap=\"coolwarm\", interpolation=\"none\")\n",
    "plt.colorbar(label=\"Correlation\")\n",
    "plt.xticks(range(len(corr.columns)), corr.columns)\n",
    "plt.yticks(range(len(corr.columns)), corr.columns)\n",
    "plt.title(\"Correlation Heatmap\")\n",
    "plt.show()"
   ]
  },
  {
   "cell_type": "code",
   "execution_count": null,
   "id": "9b84fb41",
   "metadata": {},
   "outputs": [],
   "source": [
    "# 🔹 Candlestick-like Visualization (Matplotlib)\n",
    "plt.figure(figsize=(12,6))\n",
    "for i in range(len(df)):\n",
    "    color = \"green\" if df[\"Close\"].iloc[i] >= df[\"Open\"].iloc[i] else \"red\"\n",
    "    # Wick (High-Low line)\n",
    "    plt.plot([df.index[i], df.index[i]], \n",
    "             [df[\"Low\"].iloc[i], df[\"High\"].iloc[i]], \n",
    "             color=color)\n",
    "    # Body (Open-Close rectangle)\n",
    "    plt.plot([df.index[i], df.index[i]], \n",
    "             [df[\"Open\"].iloc[i], df[\"Close\"].iloc[i]], \n",
    "             linewidth=6, color=color)\n",
    "\n",
    "plt.title(\"Tesla Stock – Candlestick-like Chart\")\n",
    "plt.xlabel(\"Date\")\n",
    "plt.ylabel(\"Price ($)\")\n",
    "plt.show()"
   ]
  }
 ],
 "metadata": {
  "kernelspec": {
   "display_name": "venv (3.12.9)",
   "language": "python",
   "name": "python3"
  },
  "language_info": {
   "codemirror_mode": {
    "name": "ipython",
    "version": 3
   },
   "file_extension": ".py",
   "mimetype": "text/x-python",
   "name": "python",
   "nbconvert_exporter": "python",
   "pygments_lexer": "ipython3",
   "version": "3.12.9"
  }
 },
 "nbformat": 4,
 "nbformat_minor": 5
}
