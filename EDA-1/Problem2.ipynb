{
 "cells": [
  {
   "cell_type": "markdown",
   "id": "dff6ddf9",
   "metadata": {},
   "source": [
    "### EDA Practice Problem 2"
   ]
  },
  {
   "cell_type": "code",
   "execution_count": null,
   "id": "b093a748",
   "metadata": {},
   "outputs": [],
   "source": [
    "# Day 2 – IPL Player Stats 🏏\n",
    "\n",
    "import pandas as pd\n",
    "import seaborn as sns\n",
    "import matplotlib.pyplot as plt\n",
    "\n",
    "# Load dataset\n",
    "df = pd.read_csv(\"ipl_batting.csv\")\n"
   ]
  },
  {
   "cell_type": "code",
   "execution_count": null,
   "id": "5799ca3d",
   "metadata": {},
   "outputs": [],
   "source": [
    "# 🔹 Top 10 run scorers\n",
    "top_runs = df.nlargest(10, \"Runs\")[[\"Player\", \"Runs\"]]\n",
    "print(\"Top 10 Run Scorers:\\n\", top_runs)\n",
    "\n",
    "# 🔹 Highest strike rate (min 100 balls faced)\n",
    "qualified = df[df[\"BF\"] >= 100].copy()\n",
    "highest_sr = qualified.sort_values(\"SR\", ascending=False).head(1)\n",
    "print(\"\\nHighest Strike Rate (min 100 balls faced):\\n\", highest_sr[[\"Player\", \"SR\", \"BF\"]])"
   ]
  },
  {
   "cell_type": "code",
   "execution_count": null,
   "id": "4e8d525a",
   "metadata": {},
   "outputs": [],
   "source": [
    "# 🔹 Bar chart: Top 5 batsmen by runs (fixed palette warning)\n",
    "plt.figure(figsize=(8,5))\n",
    "sns.barplot(\n",
    "    data=top_runs.head(5),\n",
    "    x=\"Runs\", y=\"Player\",\n",
    "    hue=\"Player\", palette=\"viridis\", legend=False\n",
    ")\n",
    "plt.title(\"Top 5 Batsmen by Runs\")\n",
    "plt.xlabel(\"Runs\")\n",
    "plt.ylabel(\"Player\")\n",
    "plt.show()\n"
   ]
  },
  {
   "cell_type": "code",
   "execution_count": null,
   "id": "27a235b7",
   "metadata": {},
   "outputs": [],
   "source": [
    "# 🔹 Runs distribution (boxplot)\n",
    "plt.figure(figsize=(6,5))\n",
    "sns.boxplot(x=df[\"Runs\"], color=\"skyblue\")\n",
    "plt.title(\"Runs Distribution\")\n",
    "plt.xlabel(\"Runs\")\n",
    "plt.show()"
   ]
  }
 ],
 "metadata": {
  "kernelspec": {
   "display_name": "venv (3.12.9)",
   "language": "python",
   "name": "python3"
  },
  "language_info": {
   "codemirror_mode": {
    "name": "ipython",
    "version": 3
   },
   "file_extension": ".py",
   "mimetype": "text/x-python",
   "name": "python",
   "nbconvert_exporter": "python",
   "pygments_lexer": "ipython3",
   "version": "3.12.9"
  }
 },
 "nbformat": 4,
 "nbformat_minor": 5
}
