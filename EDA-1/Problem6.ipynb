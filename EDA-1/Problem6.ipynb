{
 "cells": [
  {
   "cell_type": "markdown",
   "id": "e67dec8e",
   "metadata": {},
   "source": [
    "### EDA Practice Problem 6"
   ]
  },
  {
   "cell_type": "code",
   "execution_count": null,
   "id": "4ed1e156",
   "metadata": {},
   "outputs": [],
   "source": [
    "# Day 6 – Weather Data 🌦\n",
    "\n",
    "import pandas as pd\n",
    "import matplotlib.pyplot as plt\n",
    "import seaborn as sns\n",
    "\n",
    "# Load data\n",
    "df = pd.read_csv(\"weather.csv\", parse_dates=[\"date\"])\n",
    "df[\"month\"] = df[\"date\"].dt.month\n",
    "\n",
    "# 1. Average max temp per month\n",
    "avg_temp = df.groupby(\"month\")[\"temp_max\"].mean()\n",
    "print(\"Average Max Temp per Month:\\n\", avg_temp)\n",
    "\n",
    "# 2. Hottest day of the year\n",
    "hottest = df.loc[df[\"temp_max\"].idxmax()]\n",
    "print(\"\\nHottest Day:\", hottest[\"date\"].date(), \"Temp:\", hottest[\"temp_max\"])\n",
    "\n",
    "# 3. Group by season → avg rainfall\n",
    "def season(month):\n",
    "    if month in [12,1,2]: return \"Winter\"\n",
    "    elif month in [3,4,5]: return \"Spring\"\n",
    "    elif month in [6,7,8]: return \"Summer\"\n",
    "    else: return \"Fall\"\n",
    "\n",
    "df[\"season\"] = df[\"month\"].apply(season)\n",
    "avg_rain = df.groupby(\"season\")[\"precipitation\"].mean()\n",
    "print(\"\\nAverage Rainfall by Season:\\n\", avg_rain)"
   ]
  },
  {
   "cell_type": "code",
   "execution_count": null,
   "id": "bbc9ae36",
   "metadata": {},
   "outputs": [],
   "source": [
    "# 4. Line graph: temperature vs month\n",
    "plt.figure(figsize=(8,4))\n",
    "df.groupby(\"month\")[\"temp_max\"].mean().plot(marker=\"o\")\n",
    "plt.title(\"Average Monthly Max Temperature\")\n",
    "plt.xlabel(\"Month\")\n",
    "plt.ylabel(\"Temp (°C)\")\n",
    "plt.show()"
   ]
  },
  {
   "cell_type": "code",
   "execution_count": null,
   "id": "150898c3",
   "metadata": {},
   "outputs": [],
   "source": [
    "# 5. Heatmap (correlation: temp, wind, precipitation)\n",
    "plt.figure(figsize=(6,4))\n",
    "sns.heatmap(df[[\"temp_max\",\"temp_min\",\"wind\",\"precipitation\"]].corr(), annot=True, cmap=\"coolwarm\")\n",
    "plt.title(\"Correlation Heatmap\")\n",
    "plt.show()"
   ]
  }
 ],
 "metadata": {
  "kernelspec": {
   "display_name": "venv (3.12.9)",
   "language": "python",
   "name": "python3"
  },
  "language_info": {
   "codemirror_mode": {
    "name": "ipython",
    "version": 3
   },
   "file_extension": ".py",
   "mimetype": "text/x-python",
   "name": "python",
   "nbconvert_exporter": "python",
   "pygments_lexer": "ipython3",
   "version": "3.12.9"
  }
 },
 "nbformat": 4,
 "nbformat_minor": 5
}
