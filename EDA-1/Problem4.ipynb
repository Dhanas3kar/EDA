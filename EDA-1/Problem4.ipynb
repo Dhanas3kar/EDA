{
 "cells": [
  {
   "cell_type": "markdown",
   "id": "1a684ba1",
   "metadata": {},
   "source": [
    "### EDA Practice Problem 4"
   ]
  },
  {
   "cell_type": "code",
   "execution_count": null,
   "id": "32c68f97",
   "metadata": {},
   "outputs": [],
   "source": [
    "import pandas as pd\n",
    "import matplotlib.pyplot as plt\n",
    "import seaborn as sns\n",
    "\n",
    "# Load dataset\n",
    "df = pd.read_csv(\"world_population.csv\")\n",
    "\n",
    "# Top 10 most populated countries in 2022\n",
    "top10_pop = df.nlargest(10, \"2022 Population\")[[\"Country/Territory\", \"2022 Population\"]]\n",
    "print(\"Top 10 Most Populated Countries (2022):\\n\", top10_pop)\n",
    "\n",
    "# Population growth (2000–2022)\n",
    "df[\"Growth_2000_2022\"] = df[\"2022 Population\"] - df[\"2000 Population\"]\n",
    "growth = df[[\"Country/Territory\", \"Growth_2000_2022\"]].sort_values(by=\"Growth_2000_2022\", ascending=False).head(10)\n",
    "print(\"\\nTop 10 Growth (2000–2022):\\n\", growth)\n",
    "\n",
    "# 3. Continent with highest population\n",
    "continent_pop = df.groupby(\"Continent\")[\"2022 Population\"].sum().sort_values(ascending=False)\n",
    "print(\"\\nPopulation by Continent (2022):\\n\", continent_pop)\n"
   ]
  },
  {
   "cell_type": "code",
   "execution_count": null,
   "id": "74da2643",
   "metadata": {},
   "outputs": [],
   "source": [
    "# 🔹 4. Pie chart: population distribution by continent\n",
    "plt.figure(figsize=(7,7))\n",
    "plt.pie(continent_pop, labels=continent_pop.index, autopct=\"%1.1f%%\", startangle=140)\n",
    "plt.title(\"Population Distribution by Continent (2022)\")\n",
    "plt.show()\n"
   ]
  },
  {
   "cell_type": "code",
   "execution_count": null,
   "id": "792e58a3",
   "metadata": {},
   "outputs": [],
   "source": [
    "# 🔹 5. Heatmap: population growth correlation\n",
    "pop_cols = [\"1970 Population\",\"1980 Population\",\"1990 Population\",\"2000 Population\",\n",
    "            \"2010 Population\",\"2015 Population\",\"2020 Population\",\"2022 Population\"]\n",
    "corr = df[pop_cols].corr()\n",
    "\n",
    "plt.figure(figsize=(10,6))\n",
    "sns.heatmap(corr, annot=True, cmap=\"coolwarm\", fmt=\".2f\")\n",
    "plt.title(\"Population Growth Correlation (1970–2022)\")\n",
    "plt.show()"
   ]
  }
 ],
 "metadata": {
  "kernelspec": {
   "display_name": "venv (3.12.9)",
   "language": "python",
   "name": "python3"
  },
  "language_info": {
   "codemirror_mode": {
    "name": "ipython",
    "version": 3
   },
   "file_extension": ".py",
   "mimetype": "text/x-python",
   "name": "python",
   "nbconvert_exporter": "python",
   "pygments_lexer": "ipython3",
   "version": "3.12.9"
  }
 },
 "nbformat": 4,
 "nbformat_minor": 5
}
