{
 "cells": [
  {
   "cell_type": "markdown",
   "id": "71db38eb",
   "metadata": {},
   "source": [
    "### EDA Practice Problem 3"
   ]
  },
  {
   "cell_type": "code",
   "execution_count": null,
   "id": "f9bd5461",
   "metadata": {},
   "outputs": [],
   "source": [
    "# Day 3 – Netflix Movies 🎬\n",
    "\n",
    "import pandas as pd\n",
    "import seaborn as sns\n",
    "import matplotlib.pyplot as plt\n",
    "\n",
    "# Load dataset\n",
    "df = pd.read_csv(\"netflix_titles.csv\")\n",
    "\n",
    "# 🔹 Movies vs TV Shows\n",
    "type_counts = df[\"type\"].value_counts()\n",
    "print(\"Movies vs TV Shows:\\n\", type_counts)\n",
    "\n",
    "# 🔹 Top 5 Directors (Movies only)\n",
    "directors = df[df[\"type\"]==\"Movie\"][\"director\"].dropna()\n",
    "top_directors = directors.value_counts().head(5)\n",
    "print(\"\\nTop 5 Directors (Movies):\\n\", top_directors)\n",
    "\n",
    "# 🔹 Releases per Year\n",
    "releases_by_year = df[\"release_year\"].value_counts().sort_index()\n",
    "print(\"\\nReleases per Year:\\n\", releases_by_year)\n",
    "\n",
    "# 🔹 Country with Most Content\n",
    "country_counts = df[\"country\"].dropna().value_counts().head(1)\n",
    "print(\"\\nCountry with Most Content:\\n\", country_counts)"
   ]
  },
  {
   "cell_type": "code",
   "execution_count": null,
   "id": "43fe960f",
   "metadata": {},
   "outputs": [],
   "source": [
    "# 🔹 Line Graph: Content by Year\n",
    "plt.figure(figsize=(10,5))\n",
    "sns.lineplot(x=releases_by_year.index, y=releases_by_year.values, marker=\"o\")\n",
    "plt.title(\"Netflix Content Releases by Year\")\n",
    "plt.xlabel(\"Year\")\n",
    "plt.ylabel(\"Number of Releases\")\n",
    "plt.show()"
   ]
  },
  {
   "cell_type": "code",
   "execution_count": null,
   "id": "a00257aa",
   "metadata": {},
   "outputs": [],
   "source": [
    "# 🔹 Top 10 Genres\n",
    "genres = df[\"listed_in\"].dropna().str.split(\", \").explode()\n",
    "top_genres = genres.value_counts().head(10)\n",
    "print(\"\\nTop 10 Genres:\\n\", top_genres)\n",
    "\n",
    "plt.figure(figsize=(10,5))\n",
    "sns.barplot(\n",
    "    x=top_genres.values,\n",
    "    y=top_genres.index,\n",
    "    hue=top_genres.index,      # ✅ Fix warning\n",
    "    palette=\"coolwarm\",\n",
    "    legend=False\n",
    ")\n",
    "plt.title(\"Top 10 Genres on Netflix\")\n",
    "plt.xlabel(\"Number of Titles\")\n",
    "plt.ylabel(\"Genre\")\n",
    "plt.show()\n"
   ]
  }
 ],
 "metadata": {
  "kernelspec": {
   "display_name": "venv (3.12.9)",
   "language": "python",
   "name": "python3"
  },
  "language_info": {
   "codemirror_mode": {
    "name": "ipython",
    "version": 3
   },
   "file_extension": ".py",
   "mimetype": "text/x-python",
   "name": "python",
   "nbconvert_exporter": "python",
   "pygments_lexer": "ipython3",
   "version": "3.12.9"
  }
 },
 "nbformat": 4,
 "nbformat_minor": 5
}
