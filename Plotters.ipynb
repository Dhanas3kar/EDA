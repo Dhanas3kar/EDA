{
 "cells": [
  {
   "cell_type": "code",
   "execution_count": null,
   "id": "00bc0fb8",
   "metadata": {},
   "outputs": [],
   "source": [
    "\n",
    "import matplotlib.pyplot as plt\n",
    "x = [1, 2, 3, 4, 5]\n",
    "y = [2, 4, 6, 8, 10]\n"
   ]
  },
  {
   "cell_type": "code",
   "execution_count": null,
   "id": "a9b320ef",
   "metadata": {},
   "outputs": [],
   "source": [
    "# Line Plot\n",
    "plt.plot(x, y)\n",
    "plt.title('Line Plot')\n",
    "plt.xlabel('x')\n",
    "plt.ylabel('y')\n",
    "plt.show()"
   ]
  },
  {
   "cell_type": "code",
   "execution_count": null,
   "id": "f18273a0",
   "metadata": {},
   "outputs": [],
   "source": [
    "# Scatter Plot\n",
    "plt.scatter(x, y)\n",
    "plt.title('Scatter Plot')\n",
    "plt.xlabel('x')\n",
    "plt.ylabel('y')\n",
    "plt.show()\n"
   ]
  },
  {
   "cell_type": "code",
   "execution_count": null,
   "id": "6ae1e7aa",
   "metadata": {},
   "outputs": [],
   "source": [
    "# Box Plot\n",
    "import numpy as np\n",
    "data = np.random.randn(100)\n",
    "plt.boxplot(data)\n",
    "plt.title('Box Plot')\n",
    "plt.show()"
   ]
  },
  {
   "cell_type": "code",
   "execution_count": null,
   "id": "f611cd4d",
   "metadata": {},
   "outputs": [],
   "source": [
    "# Histogram\n",
    "plt.hist(data, bins=10)\n",
    "plt.title('Histogram')\n",
    "plt.show()"
   ]
  },
  {
   "cell_type": "code",
   "execution_count": null,
   "id": "c99065f0",
   "metadata": {},
   "outputs": [],
   "source": [
    "# Pie Chart\n",
    "sizes = [15, 30, 45, 10]\n",
    "labels = ['A', 'B', 'C', 'D']\n",
    "plt.pie(sizes, labels=labels, autopct='%1.1f%%')\n",
    "plt.title('Pie Chart')\n",
    "plt.show()"
   ]
  },
  {
   "cell_type": "code",
   "execution_count": null,
   "id": "6bca84e3",
   "metadata": {},
   "outputs": [],
   "source": [
    "# Stacked Plot\n",
    "x = np.arange(1, 6)\n",
    "y1 = np.array([1, 2, 3, 4, 5])\n",
    "y2 = np.array([2, 2, 2, 2, 2])\n",
    "plt.bar(x, y1, label='y1')\n",
    "plt.bar(x, y2, bottom=y1, label='y2')\n",
    "plt.title('Stacked Bar Plot')\n",
    "plt.legend()\n",
    "plt.show()"
   ]
  },
  {
   "cell_type": "code",
   "execution_count": null,
   "id": "6fad0bfd",
   "metadata": {},
   "outputs": [],
   "source": [
    "# Stem Plot\n",
    "plt.stem(x, y)\n",
    "plt.title('Stem Plot')\n",
    "plt.show()"
   ]
  },
  {
   "cell_type": "code",
   "execution_count": null,
   "id": "37aed330",
   "metadata": {},
   "outputs": [],
   "source": [
    "# Strip Plot\n",
    "import seaborn as sns\n",
    "sns.stripplot(data)\n",
    "plt.title('Strip Plot')\n",
    "plt.show()"
   ]
  },
  {
   "cell_type": "code",
   "execution_count": null,
   "id": "6f24f4a4",
   "metadata": {},
   "outputs": [],
   "source": [
    "# Whisker Plot (Box Plot)\n",
    "plt.boxplot(data)\n",
    "plt.title('Whisker Plot')\n",
    "plt.show()\n"
   ]
  },
  {
   "cell_type": "code",
   "execution_count": null,
   "id": "7d91dc41",
   "metadata": {},
   "outputs": [],
   "source": [
    "# Violin Plot\n",
    "sns.violinplot(data=data)\n",
    "plt.title('Violin Plot')\n",
    "plt.show()"
   ]
  },
  {
   "cell_type": "code",
   "execution_count": null,
   "id": "c96ca468",
   "metadata": {},
   "outputs": [],
   "source": [
    "\n",
    "# Error Bar Plot\n",
    "yerr = [0.5, 0.4, 0.3, 0.2, 0.1]\n",
    "plt.errorbar(x, y, yerr=yerr, fmt='o')\n",
    "plt.title('Error Bar Plot')\n",
    "plt.show()\n"
   ]
  },
  {
   "cell_type": "code",
   "execution_count": null,
   "id": "afccc02f",
   "metadata": {},
   "outputs": [],
   "source": [
    "# Polar Plot\n",
    "theta = np.linspace(0, 2 * np.pi, 100)\n",
    "r = np.abs(np.sin(theta))\n",
    "plt.subplot(111, polar=True)\n",
    "plt.plot(theta, r)\n",
    "plt.title('Polar Plot')\n",
    "plt.show()"
   ]
  },
  {
   "cell_type": "code",
   "execution_count": null,
   "id": "57b626cb",
   "metadata": {},
   "outputs": [],
   "source": [
    "# Hexbin Plot\n",
    "x = np.random.randn(1000)\n",
    "y = np.random.randn(1000)\n",
    "plt.hexbin(x, y, gridsize=30, cmap='Blues')\n",
    "plt.title('Hexbin Plot')\n",
    "plt.colorbar()\n",
    "plt.show()"
   ]
  },
  {
   "cell_type": "code",
   "execution_count": null,
   "id": "b6c3d368",
   "metadata": {},
   "outputs": [],
   "source": [
    "# 3D Axes Plot\n",
    "from mpl_toolkits.mplot3d import Axes3D\n",
    "fig = plt.figure()\n",
    "ax = fig.add_subplot(111, projection='3d')\n",
    "x = np.arange(1, 6)\n",
    "y = np.arange(1, 6)\n",
    "x, y = np.meshgrid(x, y)\n",
    "z = np.sin(x) + np.cos(y)\n",
    "ax.plot_surface(x, y, z, cmap='viridis')\n",
    "plt.title('3D Surface Plot')\n",
    "plt.show()"
   ]
  }
 ],
 "metadata": {
  "kernelspec": {
   "display_name": "venv",
   "language": "python",
   "name": "python3"
  },
  "language_info": {
   "codemirror_mode": {
    "name": "ipython",
    "version": 3
   },
   "file_extension": ".py",
   "mimetype": "text/x-python",
   "name": "python",
   "nbconvert_exporter": "python",
   "pygments_lexer": "ipython3",
   "version": "3.11.8"
  }
 },
 "nbformat": 4,
 "nbformat_minor": 5
}
